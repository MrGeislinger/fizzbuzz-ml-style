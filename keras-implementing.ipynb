{
 "cells": [
  {
   "cell_type": "markdown",
   "metadata": {},
   "source": [
    "# But Why...?"
   ]
  },
  {
   "cell_type": "markdown",
   "metadata": {},
   "source": [
    "Because it feels ridiculous! Also, if you can find complex patterns in multidimensional data can you find relatively simple patterns from a single input?"
   ]
  },
  {
   "cell_type": "markdown",
   "metadata": {},
   "source": [
    "# Generating the Data"
   ]
  },
  {
   "cell_type": "code",
   "execution_count": 1,
   "metadata": {
    "ExecuteTime": {
     "end_time": "2019-07-04T16:33:50.208935Z",
     "start_time": "2019-07-04T16:33:50.186211Z"
    },
    "scrolled": false
   },
   "outputs": [],
   "source": [
    "import numpy as np\n",
    "\n",
    "def fizz_buzz_onehot_encoder(n):\n",
    "    \n",
    "    if (n % 3) == 0 and (n % 5)==0:\n",
    "        vector = np.array([0,0,1,0])\n",
    "    elif n % 3 == 0: \n",
    "        vector = np.array([1,0,0,0])\n",
    "    elif n % 5 == 0:\n",
    "        vector = np.array([0,1,0,0])\n",
    "    else:\n",
    "        vector = np.array([0,0,0,1])\n",
    "    return vector\n",
    "\n",
    "def fizz_buzz_encoder(n):\n",
    "    '''\n",
    "    Encode any given number to the FizzBuzz representation. That is 'fizz' if\n",
    "    divisible by 3, 'buzz' if divisible by 5, 'fizzbuzz' if divisible by both\n",
    "    3 and 5, or simply the number given. The encoded output is a vector \n",
    "    representing the output; [1,0] meaning a \"fizz\", [0,1] a \"buzz\", and [1,1]\n",
    "    a \"fizzbuzz\". Note that the zero vector represents no word (just the \n",
    "    number).\n",
    "    '''\n",
    "    # Default to nothing in array\n",
    "    vector = np.array([0,0])\n",
    "    if n % 3 == 0: \n",
    "        vector += np.array([0,1])\n",
    "    if n % 5 == 0:\n",
    "        vector += np.array([1,0])\n",
    "        \n",
    "    return vector\n",
    "\n",
    "def fizz_buzz_decoder(n_vector, n_default=''):\n",
    "    '''\n",
    "    Decodes the fizzbuzz vector representation to an output. See \n",
    "    fizz_buzz_encoder for details on the representation. n_default is the \n",
    "    default string representation if 'fizz', 'buzz' or 'fizzbuzz' should not\n",
    "    be used in the string representation (usually just the number)\n",
    "    '''\n",
    "    # Use the vector to create the different \n",
    "    output = n_vector[0] * 'fizz' + n_vector[1] * 'buzz'\n",
    "    # If zero vector, it should printout the default number\n",
    "    if n_vector.sum() == 0:\n",
    "        output = str(n_default)\n",
    "    return output\n",
    "\n",
    "def binary_encoder(n, binary_digits=10):\n",
    "    '''\n",
    "    Creates a binary representation array from a given integer\n",
    "    \n",
    "    Args:\n",
    "    n             Integer to encode into a binary array\n",
    "    binary_digits (default 10) Number of digits in binary representation \n",
    "                  (leading 0s)\n",
    "                  \n",
    "    Return:\n",
    "    NumPy array of binary representation of integer\n",
    "    '''\n",
    "    # Use the binary iterator for efficiency\n",
    "    bin_iter = (n >> d & 1 for d in range(binary_digits))\n",
    "    return np.fromiter(bin_iter, int)"
   ]
  },
  {
   "cell_type": "code",
   "execution_count": 27,
   "metadata": {
    "ExecuteTime": {
     "end_time": "2019-07-04T16:50:07.967023Z",
     "start_time": "2019-07-04T16:50:07.964912Z"
    }
   },
   "outputs": [],
   "source": [
    "n_start = 101\n",
    "n_end = 1000"
   ]
  },
  {
   "cell_type": "code",
   "execution_count": 36,
   "metadata": {
    "ExecuteTime": {
     "end_time": "2019-07-04T16:53:09.980662Z",
     "start_time": "2019-07-04T16:53:09.972200Z"
    }
   },
   "outputs": [
    {
     "data": {
      "text/plain": [
       "array([1, 1, 1, 0, 0, 1, 1, 1, 1, 1])"
      ]
     },
     "execution_count": 36,
     "metadata": {},
     "output_type": "execute_result"
    }
   ],
   "source": [
    "# Binary representation of number\n",
    "X = np.array([binary_encoder(i,10) for i in range(n_start, n_end)])"
   ]
  },
  {
   "cell_type": "code",
   "execution_count": null,
   "metadata": {
    "ExecuteTime": {
     "end_time": "2019-07-04T16:34:21.911835Z",
     "start_time": "2019-07-04T16:34:21.639126Z"
    }
   },
   "outputs": [],
   "source": [
    "# Get classess/output\n",
    "Y = np.array([fizz_buzz_onehot_encoder(i) for i in range(n_start, n_end)])"
   ]
  },
  {
   "cell_type": "markdown",
   "metadata": {},
   "source": [
    "## Split into train-valid"
   ]
  },
  {
   "cell_type": "code",
   "execution_count": null,
   "metadata": {
    "ExecuteTime": {
     "end_time": "2019-07-02T22:31:54.906147Z",
     "start_time": "2019-07-02T22:31:54.575698Z"
    }
   },
   "outputs": [],
   "source": [
    "from sklearn.model_selection import train_test_split\n",
    "\n",
    "x_train, x_valid, y_train, y_valid = train_test_split(\n",
    "    X, Y, test_size=0.2, random_state=27)"
   ]
  },
  {
   "cell_type": "markdown",
   "metadata": {},
   "source": [
    "# A Simple Model"
   ]
  },
  {
   "cell_type": "code",
   "execution_count": null,
   "metadata": {
    "ExecuteTime": {
     "end_time": "2019-07-02T22:31:54.444539Z",
     "start_time": "2019-07-02T22:31:52.269582Z"
    }
   },
   "outputs": [],
   "source": [
    "import keras\n",
    "from keras import models\n",
    "from keras import layers\n",
    "from keras import optimizers"
   ]
  },
  {
   "cell_type": "code",
   "execution_count": null,
   "metadata": {
    "ExecuteTime": {
     "end_time": "2019-07-02T22:31:54.504619Z",
     "start_time": "2019-07-02T22:31:54.445859Z"
    }
   },
   "outputs": [],
   "source": [
    "from keras.models import Sequential\n",
    "from keras.layers import Dense, Dropout\n",
    "\n",
    "model = Sequential()\n",
    "# Attempt to embed whether or not it is divisible by 3 or 5 or neither\n",
    "model.add(Dense(units=3, activation='relu', input_dim=X.shape[1], name='input_layer'))\n",
    "# Classification\n",
    "model.add(Dense(units=4, activation='softmax'))\n",
    "\n",
    "model.summary()"
   ]
  },
  {
   "cell_type": "code",
   "execution_count": null,
   "metadata": {
    "ExecuteTime": {
     "end_time": "2019-07-02T22:31:54.547309Z",
     "start_time": "2019-07-02T22:31:54.508026Z"
    }
   },
   "outputs": [],
   "source": [
    "model.compile(loss=keras.losses.categorical_crossentropy,\n",
    "              optimizer=optimizers.SGD(lr=0.001, momentum=0.9, nesterov=True))"
   ]
  },
  {
   "cell_type": "markdown",
   "metadata": {},
   "source": [
    "## Fit the model"
   ]
  },
  {
   "cell_type": "code",
   "execution_count": null,
   "metadata": {
    "ExecuteTime": {
     "end_time": "2019-07-02T22:32:08.256061Z",
     "start_time": "2019-07-02T22:31:54.908453Z"
    }
   },
   "outputs": [],
   "source": [
    "# Proof of concept run\n",
    "model.fit(x_train, y_train, epochs=10, batch_size=1)"
   ]
  }
 ],
 "metadata": {
  "kernelspec": {
   "display_name": "Python 3",
   "language": "python",
   "name": "python3"
  },
  "language_info": {
   "codemirror_mode": {
    "name": "ipython",
    "version": 3
   },
   "file_extension": ".py",
   "mimetype": "text/x-python",
   "name": "python",
   "nbconvert_exporter": "python",
   "pygments_lexer": "ipython3",
   "version": "3.6.6"
  },
  "toc": {
   "base_numbering": 1,
   "nav_menu": {},
   "number_sections": true,
   "sideBar": true,
   "skip_h1_title": false,
   "title_cell": "Table of Contents",
   "title_sidebar": "Contents",
   "toc_cell": false,
   "toc_position": {},
   "toc_section_display": true,
   "toc_window_display": false
  },
  "varInspector": {
   "cols": {
    "lenName": 16,
    "lenType": 16,
    "lenVar": 40
   },
   "kernels_config": {
    "python": {
     "delete_cmd_postfix": "",
     "delete_cmd_prefix": "del ",
     "library": "var_list.py",
     "varRefreshCmd": "print(var_dic_list())"
    },
    "r": {
     "delete_cmd_postfix": ") ",
     "delete_cmd_prefix": "rm(",
     "library": "var_list.r",
     "varRefreshCmd": "cat(var_dic_list()) "
    }
   },
   "types_to_exclude": [
    "module",
    "function",
    "builtin_function_or_method",
    "instance",
    "_Feature"
   ],
   "window_display": false
  }
 },
 "nbformat": 4,
 "nbformat_minor": 2
}
