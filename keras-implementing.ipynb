{
 "cells": [
  {
   "cell_type": "markdown",
   "metadata": {},
   "source": [
    "# But Why...?"
   ]
  },
  {
   "cell_type": "markdown",
   "metadata": {},
   "source": [
    "Because it feels ridiculous! Also, if you can find complex patterns in multidimensional data can you find relatively simple patterns from a single input?"
   ]
  },
  {
   "cell_type": "markdown",
   "metadata": {},
   "source": [
    "# Generating the Data"
   ]
  },
  {
   "cell_type": "code",
   "execution_count": null,
   "metadata": {
    "ExecuteTime": {
     "end_time": "2019-07-02T17:49:13.680142Z",
     "start_time": "2019-07-02T17:49:13.673814Z"
    },
    "scrolled": false
   },
   "outputs": [],
   "source": [
    "import numpy as np\n",
    "\n",
    "def fizz_buzz_encoder(n):\n",
    "    '''\n",
    "    Encode any given number to the FizzBuzz representation. That is 'fizz' if\n",
    "    divisible by 3, 'buzz' if divisible by 5, 'fizzbuzz' if divisible by both\n",
    "    3 and 5, or simply the number given. The encoded output is a vector \n",
    "    representing the output; [1,0] meaning a \"fizz\", [0,1] a \"buzz\", and [1,1]\n",
    "    a \"fizzbuzz\". Note that the zero vector represents no word (just the \n",
    "    number).\n",
    "    '''\n",
    "    # Default to nothing in array\n",
    "    vector = np.array([0,0])\n",
    "    if n % 3 == 0: \n",
    "        vector += np.array([0,1])\n",
    "    if n % 5 == 0:\n",
    "        vector += np.array([1,0])\n",
    "        \n",
    "    return vector\n",
    "\n",
    "def fizz_buzz_decoder(n_vector, n_default=''):\n",
    "    '''\n",
    "    Decodes the fizzbuzz vector representation to an output. See \n",
    "    fizz_buzz_encoder for details on the representation. n_default is the \n",
    "    default string representation if 'fizz', 'buzz' or 'fizzbuzz' should not\n",
    "    be used in the string representation (usually just the number)\n",
    "    '''\n",
    "    # Use the vector to create the different \n",
    "    output = n_vector[0] * 'fizz' + n_vector[1] * 'buzz'\n",
    "    # If zero vector, it should printout the default number\n",
    "    if n_vector.sum() == 0:\n",
    "        output = str(n_default)\n",
    "    return output"
   ]
  }
 ],
 "metadata": {
  "kernelspec": {
   "display_name": "Python 3",
   "language": "python",
   "name": "python3"
  },
  "language_info": {
   "codemirror_mode": {
    "name": "ipython",
    "version": 3
   },
   "file_extension": ".py",
   "mimetype": "text/x-python",
   "name": "python",
   "nbconvert_exporter": "python",
   "pygments_lexer": "ipython3",
   "version": "3.6.6"
  },
  "toc": {
   "base_numbering": 1,
   "nav_menu": {},
   "number_sections": true,
   "sideBar": true,
   "skip_h1_title": false,
   "title_cell": "Table of Contents",
   "title_sidebar": "Contents",
   "toc_cell": false,
   "toc_position": {},
   "toc_section_display": true,
   "toc_window_display": false
  },
  "varInspector": {
   "cols": {
    "lenName": 16,
    "lenType": 16,
    "lenVar": 40
   },
   "kernels_config": {
    "python": {
     "delete_cmd_postfix": "",
     "delete_cmd_prefix": "del ",
     "library": "var_list.py",
     "varRefreshCmd": "print(var_dic_list())"
    },
    "r": {
     "delete_cmd_postfix": ") ",
     "delete_cmd_prefix": "rm(",
     "library": "var_list.r",
     "varRefreshCmd": "cat(var_dic_list()) "
    }
   },
   "types_to_exclude": [
    "module",
    "function",
    "builtin_function_or_method",
    "instance",
    "_Feature"
   ],
   "window_display": false
  }
 },
 "nbformat": 4,
 "nbformat_minor": 2
}
