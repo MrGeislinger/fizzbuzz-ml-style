{
 "cells": [
  {
   "cell_type": "markdown",
   "metadata": {},
   "source": [
    "# But Why...?"
   ]
  },
  {
   "cell_type": "markdown",
   "metadata": {},
   "source": [
    "Because it feels ridiculous! Also, if you can find complex patterns in multidimensional data can you find relatively simple patterns from a single input?"
   ]
  },
  {
   "cell_type": "markdown",
   "metadata": {},
   "source": [
    "# Generating the Data"
   ]
  },
  {
   "cell_type": "code",
   "execution_count": null,
   "metadata": {
    "ExecuteTime": {
     "end_time": "2019-07-02T19:24:32.527300Z",
     "start_time": "2019-07-02T19:24:32.521121Z"
    },
    "scrolled": false
   },
   "outputs": [],
   "source": [
    "import numpy as np\n",
    "\n",
    "def fizz_buzz_encoder(n):\n",
    "    '''\n",
    "    Encode any given number to the FizzBuzz representation. That is 'fizz' if\n",
    "    divisible by 3, 'buzz' if divisible by 5, 'fizzbuzz' if divisible by both\n",
    "    3 and 5, or simply the number given. The encoded output is a vector \n",
    "    representing the output; [1,0] meaning a \"fizz\", [0,1] a \"buzz\", and [1,1]\n",
    "    a \"fizzbuzz\". Note that the zero vector represents no word (just the \n",
    "    number).\n",
    "    '''\n",
    "    # Default to nothing in array\n",
    "    vector = np.array([0,0])\n",
    "    if n % 3 == 0: \n",
    "        vector += np.array([0,1])\n",
    "    if n % 5 == 0:\n",
    "        vector += np.array([1,0])\n",
    "        \n",
    "    return vector\n",
    "\n",
    "def fizz_buzz_decoder(n_vector, n_default=''):\n",
    "    '''\n",
    "    Decodes the fizzbuzz vector representation to an output. See \n",
    "    fizz_buzz_encoder for details on the representation. n_default is the \n",
    "    default string representation if 'fizz', 'buzz' or 'fizzbuzz' should not\n",
    "    be used in the string representation (usually just the number)\n",
    "    '''\n",
    "    # Use the vector to create the different \n",
    "    output = n_vector[0] * 'fizz' + n_vector[1] * 'buzz'\n",
    "    # If zero vector, it should printout the default number\n",
    "    if n_vector.sum() == 0:\n",
    "        output = str(n_default)\n",
    "    return output"
   ]
  },
  {
   "cell_type": "markdown",
   "metadata": {},
   "source": [
    "## Produce data"
   ]
  },
  {
   "cell_type": "code",
   "execution_count": null,
   "metadata": {
    "ExecuteTime": {
     "end_time": "2019-07-02T19:24:35.034480Z",
     "start_time": "2019-07-02T19:24:34.677468Z"
    }
   },
   "outputs": [],
   "source": [
    "import pandas as pd"
   ]
  },
  {
   "cell_type": "code",
   "execution_count": null,
   "metadata": {
    "ExecuteTime": {
     "end_time": "2019-07-02T18:44:43.632560Z",
     "start_time": "2019-07-02T18:44:43.507908Z"
    }
   },
   "outputs": [],
   "source": [
    "# Test dataset\n",
    "data = []\n",
    "\n",
    "for number in np.arange(1,201):\n",
    "    vector = fizz_buzz_encoder(number)\n",
    "    output = fizz_buzz_decoder(vector,number)\n",
    "    \n",
    "    data.append({'n':number, 'fizz':vector[0], 'buzz':vector[1]})\n",
    "    # print(f'{number:2}: {output:8} {vector}')\n",
    "\n",
    "df_test.to_csv('fizzbuzz-data-test.csv')\n",
    "df_test.head()"
   ]
  },
  {
   "cell_type": "code",
   "execution_count": null,
   "metadata": {
    "ExecuteTime": {
     "end_time": "2019-07-02T18:44:29.504276Z",
     "start_time": "2019-07-02T18:44:26.153317Z"
    }
   },
   "outputs": [],
   "source": [
    "# Train/Validate dataset\n",
    "data = []\n",
    "\n",
    "for number in np.arange(201,500102):\n",
    "    vector = fizz_buzz_encoder(number)\n",
    "    output = fizz_buzz_decoder(vector,number)\n",
    "    \n",
    "    data.append({'n':number, 'fizz':vector[0], 'buzz':vector[1]})\n",
    "    # print(f'{number:2}: {output:8} {vector}')\n",
    "\n",
    "df_test.to_csv('fizzbuzz-data-train-valid.csv')\n",
    "df_test.head()"
   ]
  },
  {
   "cell_type": "markdown",
   "metadata": {},
   "source": [
    "# A Simple Model"
   ]
  },
  {
   "cell_type": "code",
   "execution_count": null,
   "metadata": {},
   "outputs": [],
   "source": []
  },
  {
   "cell_type": "code",
   "execution_count": null,
   "metadata": {
    "ExecuteTime": {
     "end_time": "2019-07-02T19:24:39.796172Z",
     "start_time": "2019-07-02T19:24:37.952427Z"
    }
   },
   "outputs": [],
   "source": [
    "import keras\n",
    "from keras import models\n",
    "from keras import layers\n",
    "from keras import optimizers"
   ]
  },
  {
   "cell_type": "code",
   "execution_count": null,
   "metadata": {
    "ExecuteTime": {
     "end_time": "2019-07-02T19:42:51.027465Z",
     "start_time": "2019-07-02T19:42:50.897935Z"
    }
   },
   "outputs": [],
   "source": [
    "from keras.models import Sequential\n",
    "from keras.layers import Dense, Dropout\n",
    "\n",
    "model = Sequential()\n",
    "model.add(Dense(units=16, activation='relu', input_dim=1, name='input_layer'))\n",
    "model.add(Dropout(0.2, name='input_dropout'))\n",
    "# Add some complexity with more hidden layers\n",
    "model.add(Dense(units=16, activation='relu', name='hl_complex'))\n",
    "model.add(Dropout(0.2, name='hl_complex_dropout'))\n",
    "# Attempt to embed whether or not it is divisible by 3 or 5\n",
    "model.add(Dense(units=2, activation='relu', name='hl_embed'))\n",
    "model.add(Dropout(0.2, name='hl_embed_dropout'))\n",
    "# Classification\n",
    "model.add(Dense(units=2, activation='softmax'))\n",
    "\n",
    "model.summary()"
   ]
  },
  {
   "cell_type": "code",
   "execution_count": null,
   "metadata": {
    "ExecuteTime": {
     "end_time": "2019-07-02T19:24:51.655945Z",
     "start_time": "2019-07-02T19:24:51.619837Z"
    }
   },
   "outputs": [],
   "source": [
    "model.compile(loss=keras.losses.categorical_crossentropy,\n",
    "              optimizer=optimizers.SGD(lr=0.001, momentum=0.9, nesterov=True))"
   ]
  },
  {
   "cell_type": "markdown",
   "metadata": {},
   "source": [
    "## Split into train-valid"
   ]
  },
  {
   "cell_type": "code",
   "execution_count": null,
   "metadata": {
    "ExecuteTime": {
     "end_time": "2019-07-02T19:25:06.145517Z",
     "start_time": "2019-07-02T19:25:03.795262Z"
    }
   },
   "outputs": [],
   "source": [
    "X = np.array([])\n",
    "Y = []\n",
    "\n",
    "for number in np.arange(201,100201):\n",
    "    vector = fizz_buzz_encoder(number)\n",
    "    X = np.append(X,number)\n",
    "    Y.append(vector)\n",
    "    \n",
    "# For proper shape\n",
    "Y = np.array(Y)"
   ]
  },
  {
   "cell_type": "code",
   "execution_count": null,
   "metadata": {
    "ExecuteTime": {
     "end_time": "2019-07-02T19:25:07.207283Z",
     "start_time": "2019-07-02T19:25:07.201526Z"
    }
   },
   "outputs": [],
   "source": [
    "# Scaling values for NN\n",
    "X_scaled = (X - X.mean()) / (X.max() - X.min())"
   ]
  },
  {
   "cell_type": "code",
   "execution_count": null,
   "metadata": {
    "ExecuteTime": {
     "end_time": "2019-07-02T19:25:11.408080Z",
     "start_time": "2019-07-02T19:25:11.103085Z"
    }
   },
   "outputs": [],
   "source": [
    "from sklearn.model_selection import train_test_split\n",
    "\n",
    "x_train, x_valid, y_train, y_valid = train_test_split(\n",
    "    X_scaled, Y, test_size=0.2, random_state=27)"
   ]
  },
  {
   "cell_type": "markdown",
   "metadata": {},
   "source": [
    "## Fit the model"
   ]
  },
  {
   "cell_type": "code",
   "execution_count": null,
   "metadata": {
    "ExecuteTime": {
     "end_time": "2019-07-02T19:26:11.802418Z",
     "start_time": "2019-07-02T19:25:12.945497Z"
    }
   },
   "outputs": [],
   "source": [
    "# Proof of concept run\n",
    "model.fit(x_train, y_train, epochs=10, batch_size=16)"
   ]
  }
 ],
 "metadata": {
  "kernelspec": {
   "display_name": "Python 3",
   "language": "python",
   "name": "python3"
  },
  "language_info": {
   "codemirror_mode": {
    "name": "ipython",
    "version": 3
   },
   "file_extension": ".py",
   "mimetype": "text/x-python",
   "name": "python",
   "nbconvert_exporter": "python",
   "pygments_lexer": "ipython3",
   "version": "3.6.6"
  },
  "toc": {
   "base_numbering": 1,
   "nav_menu": {},
   "number_sections": true,
   "sideBar": true,
   "skip_h1_title": false,
   "title_cell": "Table of Contents",
   "title_sidebar": "Contents",
   "toc_cell": false,
   "toc_position": {},
   "toc_section_display": true,
   "toc_window_display": false
  },
  "varInspector": {
   "cols": {
    "lenName": 16,
    "lenType": 16,
    "lenVar": 40
   },
   "kernels_config": {
    "python": {
     "delete_cmd_postfix": "",
     "delete_cmd_prefix": "del ",
     "library": "var_list.py",
     "varRefreshCmd": "print(var_dic_list())"
    },
    "r": {
     "delete_cmd_postfix": ") ",
     "delete_cmd_prefix": "rm(",
     "library": "var_list.r",
     "varRefreshCmd": "cat(var_dic_list()) "
    }
   },
   "types_to_exclude": [
    "module",
    "function",
    "builtin_function_or_method",
    "instance",
    "_Feature"
   ],
   "window_display": false
  }
 },
 "nbformat": 4,
 "nbformat_minor": 2
}
